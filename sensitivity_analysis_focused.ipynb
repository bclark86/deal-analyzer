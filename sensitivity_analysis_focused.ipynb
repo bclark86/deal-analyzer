{
 "cells": [
  {
   "cell_type": "code",
   "execution_count": 1,
   "id": "acting-stockholm",
   "metadata": {},
   "outputs": [],
   "source": [
    "import numpy as np\n",
    "import pandas as pd\n",
    "from deal_analyzer import generate_deal_specs, DealAnalyzer\n",
    "\n",
    "import seaborn as sns\n",
    "import matplotlib.pyplot as plt\n",
    "\n",
    "%matplotlib inline\n",
    "%config InlineBackend.figure_format = 'retina'"
   ]
  },
  {
   "cell_type": "code",
   "execution_count": 2,
   "id": "third-kentucky",
   "metadata": {},
   "outputs": [
    {
     "data": {
      "text/plain": [
       "{'purchase_price': 895000,\n",
       " 'land_value': 50000,\n",
       " 'depreciable_life': 27.5,\n",
       " 'building_sf': 8800,\n",
       " 'rentable_sf': 6525,\n",
       " 'improvement_cost_per_sf': 62,\n",
       " 'closing_costs': 50000,\n",
       " 'debt_share': 0.75,\n",
       " 'interest_rate': 0.0425,\n",
       " 'term': 5,\n",
       " 'amortization_period': 25,\n",
       " 'number_of_units': 27,\n",
       " 'monthly_school_rent': 650,\n",
       " 'daily_summer_rent': 100,\n",
       " 'school_year_occupancy_rate': 0.95,\n",
       " 'summer_occupancy_rate': 0.5,\n",
       " 'operating_expenses_per_sf': 10,\n",
       " 'capital_reserves_per_unit': 357.14,\n",
       " 'annual_growth': 0.03,\n",
       " 'real_estate_tax_rate': 0.12,\n",
       " 'income_tax_rate': 0.396,\n",
       " 'sell_cap_rate': 0.1,\n",
       " 'years_held': 5,\n",
       " 'investor_contribution': 0.9,\n",
       " 'investor_preferred_return': 0.08,\n",
       " 'investor_profit_share': 0.5}"
      ]
     },
     "execution_count": 2,
     "metadata": {},
     "output_type": "execute_result"
    }
   ],
   "source": [
    "deal_specs = generate_deal_specs()\n",
    "deal_specs"
   ]
  },
  {
   "cell_type": "code",
   "execution_count": 3,
   "id": "comprehensive-switzerland",
   "metadata": {},
   "outputs": [
    {
     "data": {
      "text/plain": [
       "{'net_operating_income': array([125795.72      , 129569.5916    , 133456.679348  , 137460.37972844,\n",
       "        141584.19112029]),\n",
       " 'cash_flow_after_financing': array([59996.48112395, 63770.35272395, 67657.44047195, 71661.14085239,\n",
       "        75784.95224425]),\n",
       " 'net_cash_flows': array([-337387.5       ,   59996.48112395,   63770.35272395,\n",
       "          67657.44047195,   71661.14085239,  554110.45765979]),\n",
       " 'deal_irr': 0.24702690038541286,\n",
       " 'investor': {'contribution': 303648.75,\n",
       "  'preferred_return': 24291.9,\n",
       "  'cash_flows': array([-303648.75      ,   40794.64056198,   42681.57636198,\n",
       "           44625.12023598,   46626.9704262 ,  422806.6288299 ]),\n",
       "  'irr': 0.17764711899000596},\n",
       " 'sponsor': {'contribution': 33738.74999999999,\n",
       "  'preferred_return': 2699.0999999999995,\n",
       "  'cash_flows': array([-33738.75      ,  19201.84056198,  21088.77636198,  23032.32023598,\n",
       "          25034.1704262 , 131303.8288299 ]),\n",
       "  'irr': 0.7323214494176093}}"
      ]
     },
     "execution_count": 3,
     "metadata": {},
     "output_type": "execute_result"
    }
   ],
   "source": [
    "analyzer = DealAnalyzer(**deal_specs)\n",
    "analyzer.investor_waterfall"
   ]
  },
  {
   "cell_type": "code",
   "execution_count": 24,
   "id": "stupid-mexico",
   "metadata": {},
   "outputs": [],
   "source": [
    "def sensitivity_analysis_trial(opccupancy_rate_triangular=False):\n",
    "    # copy the deal specs\n",
    "    deal_specs_rv = deal_specs.copy()\n",
    "    # sample random values\n",
    "    # riskiest inputs are occupancy and rent\n",
    "    if opccupancy_rate_triangular:\n",
    "        deal_specs_rv['school_year_occupancy_rate'] = (\n",
    "            np.random.triangular(left=0.86, mode=0.95, right=0.97)\n",
    "        )\n",
    "        deal_specs_rv['summer_occupancy_rate'] = (\n",
    "            np.random.triangular(left=0.40, mode=0.50, right=0.55)\n",
    "        )\n",
    "    else:\n",
    "        deal_specs_rv['school_year_occupancy_rate'] = (\n",
    "            np.random.uniform(low=0.86, high=0.97)\n",
    "        )\n",
    "        deal_specs_rv['summer_occupancy_rate'] = (\n",
    "            np.random.uniform(low=0.40, high=0.55)\n",
    "        )\n",
    "    deal_specs_rv['monthly_school_rent'] = (\n",
    "        np.random.triangular(left=625, mode=650, right=700)\n",
    "    )\n",
    "    deal_specs_rv['daily_summer_rent'] = (\n",
    "        np.random.triangular(left=85, mode=100, right=115)\n",
    "    )\n",
    "    # run analyzer\n",
    "    analyzer_rv = DealAnalyzer(**deal_specs_rv)\n",
    "    investor_waterfall = analyzer_rv.investor_waterfall\n",
    "    cfaf_yr1 = investor_waterfall[\"cash_flow_after_financing\"][0]\n",
    "    investor_preferred_return = investor_waterfall['investor']['preferred_return']\n",
    "    sponsor_preferred_return = investor_waterfall['sponsor']['preferred_return']\n",
    "    return {\n",
    "        # sampled values\n",
    "        \"school_year_occupancy_rate\": deal_specs_rv['school_year_occupancy_rate'],\n",
    "        \"summer_occupancy_rate\": deal_specs_rv['summer_occupancy_rate'],\n",
    "        \"monthly_school_rent\": deal_specs_rv['monthly_school_rent'],\n",
    "        \"daily_summer_rent\": deal_specs_rv['daily_summer_rent'],\n",
    "        # does the deal go into the negative?\n",
    "        \"cfaf_yr1\": cfaf_yr1,\n",
    "        \"cash_flow_positive\": cfaf_yr1 > 0,\n",
    "        # can the preferred return be made?\n",
    "        \"investor_preferred_return_covered\": cfaf_yr1 > investor_preferred_return,\n",
    "        \"sponsor_preferred_return_covered\": cfaf_yr1 > (\n",
    "            investor_preferred_return + sponsor_preferred_return\n",
    "        ),\n",
    "        # investment outcomes\n",
    "        \"deal_irr\": investor_waterfall[\"deal_irr\"],\n",
    "        \"investor_irr\": investor_waterfall[\"investor\"][\"irr\"],\n",
    "        \"investor_cash_in\": investor_waterfall[\"investor\"][\"contribution\"],\n",
    "        \"investor_cash_out\": investor_waterfall[\"investor\"][\"cash_flows\"].sum(),\n",
    "        \"sponsor_irr\": investor_waterfall[\"sponsor\"][\"irr\"],\n",
    "        \"sponsor_cash_in\": investor_waterfall[\"sponsor\"][\"contribution\"],\n",
    "        \"sponsor_cash_out\": investor_waterfall[\"sponsor\"][\"cash_flows\"].sum(),\n",
    "    }"
   ]
  },
  {
   "cell_type": "code",
   "execution_count": 22,
   "id": "interim-julian",
   "metadata": {},
   "outputs": [
    {
     "data": {
      "text/plain": [
       "{'school_year_occupancy_rate': 0.9139718287642473,\n",
       " 'summer_occupancy_rate': 0.46633256217323754,\n",
       " 'monthly_school_rent': 640.0705903482426,\n",
       " 'daily_summer_rent': 107.21238210202485,\n",
       " 'cfaf_yr1': 50278.76703902532,\n",
       " 'cash_flow_positive': True,\n",
       " 'investor_preferred_return_covered': True,\n",
       " 'sponsor_preferred_return_covered': True,\n",
       " 'deal_irr': 0.18839886092093105,\n",
       " 'investor_irr': 0.14185071809126337,\n",
       " 'investor_cash_in': 303648.75,\n",
       " 'investor_cash_out': 224340.36323361582,\n",
       " 'sponsor_irr': 0.5436863656681472,\n",
       " 'sponsor_cash_in': 33738.74999999999,\n",
       " 'sponsor_cash_out': 116376.36323361573}"
      ]
     },
     "execution_count": 22,
     "metadata": {},
     "output_type": "execute_result"
    }
   ],
   "source": [
    "sensitivity_analysis_trial(False)"
   ]
  },
  {
   "cell_type": "code",
   "execution_count": 25,
   "id": "congressional-sentence",
   "metadata": {},
   "outputs": [],
   "source": [
    "k_trials = 100_000\n",
    "\n",
    "np.random.seed(90)\n",
    "results_df = pd.DataFrame([sensitivity_analysis_trial() for _ in range(k_trials)])"
   ]
  },
  {
   "cell_type": "code",
   "execution_count": 26,
   "id": "passing-induction",
   "metadata": {},
   "outputs": [
    {
     "data": {
      "text/html": [
       "<div>\n",
       "<style scoped>\n",
       "    .dataframe tbody tr th:only-of-type {\n",
       "        vertical-align: middle;\n",
       "    }\n",
       "\n",
       "    .dataframe tbody tr th {\n",
       "        vertical-align: top;\n",
       "    }\n",
       "\n",
       "    .dataframe thead th {\n",
       "        text-align: right;\n",
       "    }\n",
       "</style>\n",
       "<table border=\"1\" class=\"dataframe\">\n",
       "  <thead>\n",
       "    <tr style=\"text-align: right;\">\n",
       "      <th></th>\n",
       "      <th>school_year_occupancy_rate</th>\n",
       "      <th>summer_occupancy_rate</th>\n",
       "      <th>monthly_school_rent</th>\n",
       "      <th>daily_summer_rent</th>\n",
       "      <th>cfaf_yr1</th>\n",
       "      <th>cash_flow_positive</th>\n",
       "      <th>investor_preferred_return_covered</th>\n",
       "      <th>sponsor_preferred_return_covered</th>\n",
       "      <th>deal_irr</th>\n",
       "      <th>investor_irr</th>\n",
       "      <th>investor_cash_in</th>\n",
       "      <th>investor_cash_out</th>\n",
       "      <th>sponsor_irr</th>\n",
       "      <th>sponsor_cash_in</th>\n",
       "      <th>sponsor_cash_out</th>\n",
       "    </tr>\n",
       "  </thead>\n",
       "  <tbody>\n",
       "    <tr>\n",
       "      <th>0</th>\n",
       "      <td>0.876836</td>\n",
       "      <td>0.423653</td>\n",
       "      <td>692.623800</td>\n",
       "      <td>108.444390</td>\n",
       "      <td>43957.771663</td>\n",
       "      <td>True</td>\n",
       "      <td>True</td>\n",
       "      <td>True</td>\n",
       "      <td>0.146105</td>\n",
       "      <td>0.116959</td>\n",
       "      <td>303648.75</td>\n",
       "      <td>179103.507849</td>\n",
       "      <td>0.394926</td>\n",
       "      <td>33738.75</td>\n",
       "      <td>71139.507849</td>\n",
       "    </tr>\n",
       "    <tr>\n",
       "      <th>1</th>\n",
       "      <td>0.880469</td>\n",
       "      <td>0.440156</td>\n",
       "      <td>650.026926</td>\n",
       "      <td>102.353512</td>\n",
       "      <td>36307.970959</td>\n",
       "      <td>True</td>\n",
       "      <td>True</td>\n",
       "      <td>True</td>\n",
       "      <td>0.088797</td>\n",
       "      <td>0.084765</td>\n",
       "      <td>303648.75</td>\n",
       "      <td>124356.920068</td>\n",
       "      <td>0.136151</td>\n",
       "      <td>33738.75</td>\n",
       "      <td>16392.920068</td>\n",
       "    </tr>\n",
       "    <tr>\n",
       "      <th>2</th>\n",
       "      <td>0.887655</td>\n",
       "      <td>0.495281</td>\n",
       "      <td>660.304177</td>\n",
       "      <td>101.902865</td>\n",
       "      <td>52659.756211</td>\n",
       "      <td>True</td>\n",
       "      <td>True</td>\n",
       "      <td>True</td>\n",
       "      <td>0.203401</td>\n",
       "      <td>0.150879</td>\n",
       "      <td>303648.75</td>\n",
       "      <td>241380.157832</td>\n",
       "      <td>0.593181</td>\n",
       "      <td>33738.75</td>\n",
       "      <td>133416.157832</td>\n",
       "    </tr>\n",
       "    <tr>\n",
       "      <th>3</th>\n",
       "      <td>0.900455</td>\n",
       "      <td>0.438725</td>\n",
       "      <td>644.089437</td>\n",
       "      <td>100.809657</td>\n",
       "      <td>36787.175522</td>\n",
       "      <td>True</td>\n",
       "      <td>True</td>\n",
       "      <td>True</td>\n",
       "      <td>0.092631</td>\n",
       "      <td>0.086857</td>\n",
       "      <td>303648.75</td>\n",
       "      <td>127786.396953</td>\n",
       "      <td>0.158159</td>\n",
       "      <td>33738.75</td>\n",
       "      <td>19822.396953</td>\n",
       "    </tr>\n",
       "    <tr>\n",
       "      <th>4</th>\n",
       "      <td>0.950819</td>\n",
       "      <td>0.475518</td>\n",
       "      <td>665.770620</td>\n",
       "      <td>104.597933</td>\n",
       "      <td>61332.769380</td>\n",
       "      <td>True</td>\n",
       "      <td>True</td>\n",
       "      <td>True</td>\n",
       "      <td>0.254601</td>\n",
       "      <td>0.182365</td>\n",
       "      <td>303648.75</td>\n",
       "      <td>303449.471154</td>\n",
       "      <td>0.756056</td>\n",
       "      <td>33738.75</td>\n",
       "      <td>195485.471154</td>\n",
       "    </tr>\n",
       "  </tbody>\n",
       "</table>\n",
       "</div>"
      ],
      "text/plain": [
       "   school_year_occupancy_rate  summer_occupancy_rate  monthly_school_rent  \\\n",
       "0                    0.876836               0.423653           692.623800   \n",
       "1                    0.880469               0.440156           650.026926   \n",
       "2                    0.887655               0.495281           660.304177   \n",
       "3                    0.900455               0.438725           644.089437   \n",
       "4                    0.950819               0.475518           665.770620   \n",
       "\n",
       "   daily_summer_rent      cfaf_yr1  cash_flow_positive  \\\n",
       "0         108.444390  43957.771663                True   \n",
       "1         102.353512  36307.970959                True   \n",
       "2         101.902865  52659.756211                True   \n",
       "3         100.809657  36787.175522                True   \n",
       "4         104.597933  61332.769380                True   \n",
       "\n",
       "   investor_preferred_return_covered  sponsor_preferred_return_covered  \\\n",
       "0                               True                              True   \n",
       "1                               True                              True   \n",
       "2                               True                              True   \n",
       "3                               True                              True   \n",
       "4                               True                              True   \n",
       "\n",
       "   deal_irr  investor_irr  investor_cash_in  investor_cash_out  sponsor_irr  \\\n",
       "0  0.146105      0.116959         303648.75      179103.507849     0.394926   \n",
       "1  0.088797      0.084765         303648.75      124356.920068     0.136151   \n",
       "2  0.203401      0.150879         303648.75      241380.157832     0.593181   \n",
       "3  0.092631      0.086857         303648.75      127786.396953     0.158159   \n",
       "4  0.254601      0.182365         303648.75      303449.471154     0.756056   \n",
       "\n",
       "   sponsor_cash_in  sponsor_cash_out  \n",
       "0         33738.75      71139.507849  \n",
       "1         33738.75      16392.920068  \n",
       "2         33738.75     133416.157832  \n",
       "3         33738.75      19822.396953  \n",
       "4         33738.75     195485.471154  "
      ]
     },
     "execution_count": 26,
     "metadata": {},
     "output_type": "execute_result"
    }
   ],
   "source": [
    "results_df.head()"
   ]
  },
  {
   "cell_type": "code",
   "execution_count": 7,
   "id": "referenced-groove",
   "metadata": {},
   "outputs": [
    {
     "data": {
      "text/plain": [
       "0.09694"
      ]
     },
     "execution_count": 7,
     "metadata": {},
     "output_type": "execute_result"
    }
   ],
   "source": [
    "np.mean(results_df.investor_irr < 0.10)"
   ]
  },
  {
   "cell_type": "code",
   "execution_count": 8,
   "id": "guilty-interstate",
   "metadata": {},
   "outputs": [
    {
     "data": {
      "text/plain": [
       "0.99868"
      ]
     },
     "execution_count": 8,
     "metadata": {},
     "output_type": "execute_result"
    }
   ],
   "source": [
    "np.mean(results_df.investor_preferred_return_covered)"
   ]
  },
  {
   "cell_type": "code",
   "execution_count": 80,
   "id": "effective-brazil",
   "metadata": {},
   "outputs": [
    {
     "data": {
      "text/plain": [
       "0.99625"
      ]
     },
     "execution_count": 80,
     "metadata": {},
     "output_type": "execute_result"
    }
   ],
   "source": [
    "np.mean(results_df.sponsor_preferred_return_covered)"
   ]
  },
  {
   "cell_type": "code",
   "execution_count": 44,
   "id": "level-spiritual",
   "metadata": {},
   "outputs": [
    {
     "data": {
      "image/png": "[encoded data removed]",
      "text/plain": [
       "<Figure size 1152x288 with 3 Axes>"
      ]
     },
     "metadata": {
      "image/png": {
       "height": 262,
       "width": 953
      },
      "needs_background": "light"
     },
     "output_type": "display_data"
    }
   ],
   "source": [
    "cols = ['deal_irr', 'investor_irr', 'sponsor_irr']\n",
    "\n",
    "n = len(cols)\n",
    "fig, ax = plt.subplots(nrows=1, ncols=n, figsize=(16, 4), sharex=False)\n",
    "for i in range(n):\n",
    "    plt.sca(ax[i])\n",
    "    col = cols[i]\n",
    "    sns.histplot(x=col, data=results_df);"
   ]
  },
  {
   "cell_type": "code",
   "execution_count": 45,
   "id": "settled-spiritual",
   "metadata": {},
   "outputs": [],
   "source": [
    "results_long_df = pd.melt(\n",
    "    results_df,\n",
    "    id_vars=['school_year_occupancy_rate', 'summer_occupancy_rate', 'monthly_school_rent', 'daily_summer_rent'],\n",
    "    value_vars=['deal_irr', 'investor_irr', 'sponsor_irr'],\n",
    "    var_name='outcome',\n",
    "    value_name='value'\n",
    ")"
   ]
  },
  {
   "cell_type": "code",
   "execution_count": 46,
   "id": "graduate-snake",
   "metadata": {},
   "outputs": [
    {
     "data": {
      "image/png": "[encoded data removed]",
      "text/plain": [
       "<Figure size 648x216 with 3 Axes>"
      ]
     },
     "metadata": {
      "image/png": {
       "height": 207,
       "width": 641
      },
      "needs_background": "light"
     },
     "output_type": "display_data"
    }
   ],
   "source": [
    "g = sns.FacetGrid(results_long_df, col=\"outcome\", sharex=False)\n",
    "g.map_dataframe(sns.histplot, x=\"value\");"
   ]
  },
  {
   "cell_type": "code",
   "execution_count": 13,
   "id": "addressed-connectivity",
   "metadata": {},
   "outputs": [
    {
     "data": {
      "text/plain": [
       "0.92750546"
      ]
     },
     "execution_count": 13,
     "metadata": {},
     "output_type": "execute_result"
    }
   ],
   "source": [
    "np.array(0.92750546).item()"
   ]
  },
  {
   "cell_type": "code",
   "execution_count": 27,
   "id": "based-chester",
   "metadata": {},
   "outputs": [],
   "source": [
    "def sensitivity_analysis_trial(opccupancy_rate_triangular=False):\n",
    "    # copy the deal specs\n",
    "    deal_specs_rv = deal_specs.copy()\n",
    "    # sample random values\n",
    "    # riskiest inputs are occupancy and rent\n",
    "    deal_specs_rv['school_year_occupancy_rate'] = (\n",
    "        np.where(\n",
    "            opccupancy_rate_triangular,\n",
    "            np.random.triangular(left=0.86, mode=0.95, right=0.97),\n",
    "            np.random.uniform(low=0.86, high=0.97)\n",
    "        ).item()\n",
    "    )\n",
    "    deal_specs_rv['summer_occupancy_rate'] = (\n",
    "        np.where(\n",
    "            opccupancy_rate_triangular,\n",
    "            np.random.triangular(left=0.40, mode=0.50, right=0.55),\n",
    "            np.random.uniform(low=0.40, high=0.55)\n",
    "        ).item()\n",
    "    )\n",
    "    deal_specs_rv['monthly_school_rent'] = (\n",
    "        np.random.triangular(left=625, mode=650, right=700)\n",
    "    )\n",
    "    deal_specs_rv['daily_summer_rent'] = (\n",
    "        np.random.triangular(left=85, mode=100, right=115)\n",
    "    )\n",
    "    # run analyzer\n",
    "    analyzer_rv = DealAnalyzer(**deal_specs_rv)\n",
    "    investor_waterfall = analyzer_rv.investor_waterfall\n",
    "    cfaf_yr1 = investor_waterfall[\"cash_flow_after_financing\"][0]\n",
    "    investor_preferred_return = investor_waterfall['investor']['preferred_return']\n",
    "    sponsor_preferred_return = investor_waterfall['sponsor']['preferred_return']\n",
    "    return {\n",
    "        # sampled values\n",
    "        \"school_year_occupancy_rate\": deal_specs_rv['school_year_occupancy_rate'],\n",
    "        \"summer_occupancy_rate\": deal_specs_rv['summer_occupancy_rate'],\n",
    "        \"monthly_school_rent\": deal_specs_rv['monthly_school_rent'],\n",
    "        \"daily_summer_rent\": deal_specs_rv['daily_summer_rent'],\n",
    "        # does the deal go into the negative?\n",
    "        \"cfaf_yr1\": cfaf_yr1,\n",
    "        \"cash_flow_positive\": cfaf_yr1 > 0,\n",
    "        # can the preferred return be made?\n",
    "        \"investor_preferred_return_covered\": cfaf_yr1 > investor_preferred_return,\n",
    "        \"sponsor_preferred_return_covered\": cfaf_yr1 > (\n",
    "            investor_preferred_return + sponsor_preferred_return\n",
    "        ),\n",
    "        # investment outcomes\n",
    "        \"deal_irr\": investor_waterfall[\"deal_irr\"],\n",
    "        \"investor_irr\": investor_waterfall[\"investor\"][\"irr\"],\n",
    "        \"investor_cash_in\": investor_waterfall[\"investor\"][\"contribution\"],\n",
    "        \"investor_cash_out\": investor_waterfall[\"investor\"][\"cash_flows\"].sum(),\n",
    "        \"sponsor_irr\": investor_waterfall[\"sponsor\"][\"irr\"],\n",
    "        \"sponsor_cash_in\": investor_waterfall[\"sponsor\"][\"contribution\"],\n",
    "        \"sponsor_cash_out\": investor_waterfall[\"sponsor\"][\"cash_flows\"].sum(),\n",
    "    }\n",
    "    \n",
    "\n",
    "def run_simulation(n=100_000):\n",
    "    np.random.seed(90)\n",
    "    return pd.DataFrame([sensitivity_analysis_trial() for _ in range(n)])\n"
   ]
  },
  {
   "cell_type": "code",
   "execution_count": 28,
   "id": "flexible-integer",
   "metadata": {},
   "outputs": [
    {
     "data": {
      "text/html": [
       "<div>\n",
       "<style scoped>\n",
       "    .dataframe tbody tr th:only-of-type {\n",
       "        vertical-align: middle;\n",
       "    }\n",
       "\n",
       "    .dataframe tbody tr th {\n",
       "        vertical-align: top;\n",
       "    }\n",
       "\n",
       "    .dataframe thead th {\n",
       "        text-align: right;\n",
       "    }\n",
       "</style>\n",
       "<table border=\"1\" class=\"dataframe\">\n",
       "  <thead>\n",
       "    <tr style=\"text-align: right;\">\n",
       "      <th></th>\n",
       "      <th>school_year_occupancy_rate</th>\n",
       "      <th>summer_occupancy_rate</th>\n",
       "      <th>monthly_school_rent</th>\n",
       "      <th>daily_summer_rent</th>\n",
       "      <th>cfaf_yr1</th>\n",
       "      <th>cash_flow_positive</th>\n",
       "      <th>investor_preferred_return_covered</th>\n",
       "      <th>sponsor_preferred_return_covered</th>\n",
       "      <th>deal_irr</th>\n",
       "      <th>investor_irr</th>\n",
       "      <th>investor_cash_in</th>\n",
       "      <th>investor_cash_out</th>\n",
       "      <th>sponsor_irr</th>\n",
       "      <th>sponsor_cash_in</th>\n",
       "      <th>sponsor_cash_out</th>\n",
       "    </tr>\n",
       "  </thead>\n",
       "  <tbody>\n",
       "    <tr>\n",
       "      <th>0</th>\n",
       "      <td>0.877345</td>\n",
       "      <td>0.535675</td>\n",
       "      <td>643.678778</td>\n",
       "      <td>95.975850</td>\n",
       "      <td>51961.555776</td>\n",
       "      <td>True</td>\n",
       "      <td>True</td>\n",
       "      <td>True</td>\n",
       "      <td>0.199049</td>\n",
       "      <td>0.148250</td>\n",
       "      <td>303648.75</td>\n",
       "      <td>236383.414401</td>\n",
       "      <td>0.578942</td>\n",
       "      <td>33738.75</td>\n",
       "      <td>128419.414401</td>\n",
       "    </tr>\n",
       "    <tr>\n",
       "      <th>1</th>\n",
       "      <td>0.930905</td>\n",
       "      <td>0.495281</td>\n",
       "      <td>660.304177</td>\n",
       "      <td>101.902865</td>\n",
       "      <td>59599.437672</td>\n",
       "      <td>True</td>\n",
       "      <td>True</td>\n",
       "      <td>True</td>\n",
       "      <td>0.244756</td>\n",
       "      <td>0.176236</td>\n",
       "      <td>303648.75</td>\n",
       "      <td>291044.703996</td>\n",
       "      <td>0.725190</td>\n",
       "      <td>33738.75</td>\n",
       "      <td>183080.703996</td>\n",
       "    </tr>\n",
       "    <tr>\n",
       "      <th>2</th>\n",
       "      <td>0.888398</td>\n",
       "      <td>0.482878</td>\n",
       "      <td>674.428835</td>\n",
       "      <td>100.051843</td>\n",
       "      <td>50712.963553</td>\n",
       "      <td>True</td>\n",
       "      <td>True</td>\n",
       "      <td>True</td>\n",
       "      <td>0.191169</td>\n",
       "      <td>0.143511</td>\n",
       "      <td>303648.75</td>\n",
       "      <td>227447.735370</td>\n",
       "      <td>0.552918</td>\n",
       "      <td>33738.75</td>\n",
       "      <td>119483.735370</td>\n",
       "    </tr>\n",
       "    <tr>\n",
       "      <th>3</th>\n",
       "      <td>0.943550</td>\n",
       "      <td>0.457751</td>\n",
       "      <td>637.255399</td>\n",
       "      <td>105.692499</td>\n",
       "      <td>50832.714332</td>\n",
       "      <td>True</td>\n",
       "      <td>True</td>\n",
       "      <td>True</td>\n",
       "      <td>0.191931</td>\n",
       "      <td>0.143967</td>\n",
       "      <td>303648.75</td>\n",
       "      <td>228304.744172</td>\n",
       "      <td>0.555447</td>\n",
       "      <td>33738.75</td>\n",
       "      <td>120340.744172</td>\n",
       "    </tr>\n",
       "    <tr>\n",
       "      <th>4</th>\n",
       "      <td>0.865591</td>\n",
       "      <td>0.545239</td>\n",
       "      <td>692.810750</td>\n",
       "      <td>105.994949</td>\n",
       "      <td>71608.439106</td>\n",
       "      <td>True</td>\n",
       "      <td>True</td>\n",
       "      <td>True</td>\n",
       "      <td>0.309723</td>\n",
       "      <td>0.217232</td>\n",
       "      <td>303648.75</td>\n",
       "      <td>376988.361429</td>\n",
       "      <td>0.927883</td>\n",
       "      <td>33738.75</td>\n",
       "      <td>269024.361429</td>\n",
       "    </tr>\n",
       "  </tbody>\n",
       "</table>\n",
       "</div>"
      ],
      "text/plain": [
       "   school_year_occupancy_rate  summer_occupancy_rate  monthly_school_rent  \\\n",
       "0                    0.877345               0.535675           643.678778   \n",
       "1                    0.930905               0.495281           660.304177   \n",
       "2                    0.888398               0.482878           674.428835   \n",
       "3                    0.943550               0.457751           637.255399   \n",
       "4                    0.865591               0.545239           692.810750   \n",
       "\n",
       "   daily_summer_rent      cfaf_yr1  cash_flow_positive  \\\n",
       "0          95.975850  51961.555776                True   \n",
       "1         101.902865  59599.437672                True   \n",
       "2         100.051843  50712.963553                True   \n",
       "3         105.692499  50832.714332                True   \n",
       "4         105.994949  71608.439106                True   \n",
       "\n",
       "   investor_preferred_return_covered  sponsor_preferred_return_covered  \\\n",
       "0                               True                              True   \n",
       "1                               True                              True   \n",
       "2                               True                              True   \n",
       "3                               True                              True   \n",
       "4                               True                              True   \n",
       "\n",
       "   deal_irr  investor_irr  investor_cash_in  investor_cash_out  sponsor_irr  \\\n",
       "0  0.199049      0.148250         303648.75      236383.414401     0.578942   \n",
       "1  0.244756      0.176236         303648.75      291044.703996     0.725190   \n",
       "2  0.191169      0.143511         303648.75      227447.735370     0.552918   \n",
       "3  0.191931      0.143967         303648.75      228304.744172     0.555447   \n",
       "4  0.309723      0.217232         303648.75      376988.361429     0.927883   \n",
       "\n",
       "   sponsor_cash_in  sponsor_cash_out  \n",
       "0         33738.75     128419.414401  \n",
       "1         33738.75     183080.703996  \n",
       "2         33738.75     119483.735370  \n",
       "3         33738.75     120340.744172  \n",
       "4         33738.75     269024.361429  "
      ]
     },
     "execution_count": 28,
     "metadata": {},
     "output_type": "execute_result"
    }
   ],
   "source": [
    "results_df = run_simulation()\n",
    "results_df.head()"
   ]
  },
  {
   "cell_type": "code",
   "execution_count": 29,
   "id": "phantom-ethiopia",
   "metadata": {},
   "outputs": [
    {
     "data": {
      "text/plain": [
       "0.24203"
      ]
     },
     "execution_count": 29,
     "metadata": {},
     "output_type": "execute_result"
    }
   ],
   "source": [
    "np.mean(results_df.investor_irr < 0.10)"
   ]
  },
  {
   "cell_type": "code",
   "execution_count": null,
   "id": "fifth-amber",
   "metadata": {},
   "outputs": [],
   "source": []
  }
 ],
 "metadata": {
  "kernelspec": {
   "display_name": "deal-analyzer",
   "language": "python",
   "name": "deal-analyzer"
  },
  "language_info": {
   "codemirror_mode": {
    "name": "ipython",
    "version": 3
   },
   "file_extension": ".py",
   "mimetype": "text/x-python",
   "name": "python",
   "nbconvert_exporter": "python",
   "pygments_lexer": "ipython3",
   "version": "3.8.8"
  }
 },
 "nbformat": 4,
 "nbformat_minor": 5
}
